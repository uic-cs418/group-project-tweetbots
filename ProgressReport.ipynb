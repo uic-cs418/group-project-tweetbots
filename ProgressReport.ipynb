{
 "cells": [
  {
   "cell_type": "markdown",
   "metadata": {},
   "source": [
    "# _Twitter Bots Progress Report:_\n",
    "### _UIC CS 418, Spring 2024_\n",
    "##### _Authors: Joel Lovely, Tom Kmiotek, ect_\n",
    "\n",
    "### Project Introduction:\n",
    "\n",
    "In our project, we will be analyzing and testing the hypothesis that social media has a negative and demonstrable negative effect on an individual's emotional well-being. We will look at things such as self-esteem, mental health, and social interaction. We will be analyzing surveys to find out if there is a correlation between social media usage and any of the possible negative consequences mentioned, as well as if these issues have gotten worse with the increase in social media usage over time. Our data is in the form of a of a CSV file that lists all responses by those who were surveyed.\n",
    "\n",
    "\n",
    "Our aim is to answer questions such as:\n",
    "\n",
    "\n",
    "Does heavy socail meida usage increase the chance of mental health disorders such as depression and anxiety?\n",
    "Does the increase in social media usage in the recent decade(s) correlate with the rise of mental health issues?\n",
    "If social media does have a negative impact on mental health, is it substantial or rather small and insignificant?\n",
    "\n",
    "### Changes:\n",
    "\n",
    "Bacon ipsum dolor amet picanha burgdoggen short ribs jowl short loin swine spare ribs meatloaf. Kevin spare ribs t-bone chicken pastrami, doner ham hock cow pork loin short ribs turducken. Spare ribs short ribs ham hock landjaeger beef ribs, tenderloin ground round pork loin andouille burgdoggen. Jowl beef ribs t-bone tongue short loin corned beef kevin boudin cupim pork loin alcatra capicola kielbasa ham. Pork shankle andouille, pork loin burgdoggen ham hock ribeye chislic beef ribs turkey ground round meatloaf buffalo spare ribs fatback. Hamburger tongue drumstick, short ribs beef ribs kielbasa landjaeger jowl jerky salami alcatra shoulder chicken tenderloin. Picanha buffalo pancetta cupim salami brisket.\n",
    "\n",
    "### Data Cleaning:\n",
    "\n",
    "Bacon ipsum dolor amet picanha burgdoggen short ribs jowl short loin swine spare ribs meatloaf. Kevin spare ribs t-bone chicken pastrami, doner ham hock cow pork loin short ribs turducken. Spare ribs short ribs ham hock landjaeger beef ribs, tenderloin ground round pork loin andouille burgdoggen. Jowl beef ribs t-bone tongue short loin corned beef kevin boudin cupim pork loin alcatra capicola kielbasa ham. Pork shankle andouille, pork loin burgdoggen ham hock ribeye chislic beef ribs turkey ground round meatloaf buffalo spare ribs fatback. Hamburger tongue drumstick, short ribs beef ribs kielbasa landjaeger jowl jerky salami alcatra shoulder chicken tenderloin. Picanha buffalo pancetta cupim salami brisket.\n",
    "\n",
    "### EDA Analysis:\n",
    "\n",
    "Bacon ipsum dolor amet picanha burgdoggen short ribs jowl short loin swine spare ribs meatloaf. Kevin spare ribs t-bone chicken pastrami, doner ham hock cow pork loin short ribs turducken. Spare ribs short ribs ham hock landjaeger beef ribs, tenderloin ground round pork loin andouille burgdoggen. Jowl beef ribs t-bone tongue short loin corned beef kevin boudin cupim pork loin alcatra capicola kielbasa ham. Pork shankle andouille, pork loin burgdoggen ham hock ribeye chislic beef ribs turkey ground round meatloaf buffalo spare ribs fatback. Hamburger tongue drumstick, short ribs beef ribs kielbasa landjaeger jowl jerky salami alcatra shoulder chicken tenderloin. Picanha buffalo pancetta cupim salami brisket.\n",
    "\n",
    "### Visualization:\n",
    "\n",
    "Bacon ipsum dolor amet picanha burgdoggen short ribs jowl short loin swine spare ribs meatloaf. Kevin spare ribs t-bone chicken pastrami, doner ham hock cow pork loin short ribs turducken. Spare ribs short ribs ham hock landjaeger beef ribs, tenderloin ground round pork loin andouille burgdoggen. Jowl beef ribs t-bone tongue short loin corned beef kevin boudin cupim pork loin alcatra capicola kielbasa ham. Pork shankle andouille, pork loin burgdoggen ham hock ribeye chislic beef ribs turkey ground round meatloaf buffalo spare ribs fatback. Hamburger tongue drumstick, short ribs beef ribs kielbasa landjaeger jowl jerky salami alcatra shoulder chicken tenderloin. Picanha buffalo pancetta cupim salami brisket.\n",
    "\n",
    "\n",
    "### ML-Learning Analysis:\n",
    "\n",
    "Bacon ipsum dolor amet picanha burgdoggen short ribs jowl short loin swine spare ribs meatloaf. Kevin spare ribs t-bone chicken pastrami, doner ham hock cow pork loin short ribs turducken. Spare ribs short ribs ham hock landjaeger beef ribs, tenderloin ground round pork loin andouille burgdoggen. Jowl beef ribs t-bone tongue short loin corned beef kevin boudin cupim pork loin alcatra capicola kielbasa ham. Pork shankle andouille, pork loin burgdoggen ham hock ribeye chislic beef ribs turkey ground round meatloaf buffalo spare ribs fatback. Hamburger tongue drumstick, short ribs beef ribs kielbasa landjaeger jowl jerky salami alcatra shoulder chicken tenderloin. Picanha buffalo pancetta cupim salami brisket.\n",
    "\n",
    "### Reflection:\n",
    "\n",
    "Bacon ipsum dolor amet picanha burgdoggen short ribs jowl short loin swine spare ribs meatloaf. Kevin spare ribs t-bone chicken pastrami, doner ham hock cow pork loin short ribs turducken. Spare ribs short ribs ham hock landjaeger beef ribs, tenderloin ground round pork loin andouille burgdoggen. Jowl beef ribs t-bone tongue short loin corned beef kevin boudin cupim pork loin alcatra capicola kielbasa ham. Pork shankle andouille, pork loin burgdoggen ham hock ribeye chislic beef ribs turkey ground round meatloaf buffalo spare ribs fatback. Hamburger tongue drumstick, short ribs beef ribs kielbasa landjaeger jowl jerky salami alcatra shoulder chicken tenderloin. Picanha buffalo pancetta cupim salami brisket.\n",
    "\n",
    "### Next Steps:\n",
    "\n",
    "Bacon ipsum dolor amet picanha burgdoggen short ribs jowl short loin swine spare ribs meatloaf. Kevin spare ribs t-bone chicken pastrami, doner ham hock cow pork loin short ribs turducken. Spare ribs short ribs ham hock landjaeger beef ribs, tenderloin ground round pork loin andouille burgdoggen. Jowl beef ribs t-bone tongue short loin corned beef kevin boudin cupim pork loin alcatra capicola kielbasa ham. Pork shankle andouille, pork loin burgdoggen ham hock ribeye chislic beef ribs turkey ground round meatloaf buffalo spare ribs fatback. Hamburger tongue drumstick, short ribs beef ribs kielbasa landjaeger jowl jerky salami alcatra shoulder chicken tenderloin. Picanha buffalo pancetta cupim salami brisket."
   ]
  },
  {
   "cell_type": "markdown",
   "metadata": {},
   "source": []
  }
 ],
 "metadata": {
  "language_info": {
   "name": "python"
  }
 },
 "nbformat": 4,
 "nbformat_minor": 2
}
