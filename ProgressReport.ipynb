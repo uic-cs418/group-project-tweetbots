{
 "cells": [
  {
   "cell_type": "markdown",
   "metadata": {},
   "source": [
    "# _Twitter Bots Progress Report:_\n",
    "### _UIC CS 418, Spring 2024_\n",
    "##### _Authors: Joel Lovely, Tom Kmiotek, Sidharth Bijo, Sean James \n",
    "\n",
    "### Project Introduction:\n",
    "\n",
    "In our project, we will be analyzing and testing the hypothesis that various factors influence individuals' preferences for certain social media platforms. We aim to explore the multifaceted nature of social media preferences and understand the underlying drivers behind why people choose one platform over another. Our analysis will delve into demographic and behavioral factors to gain insights into the dynamics of social media usage.\n",
    "\n",
    "Our research will involve examining survey responses to identify correlations between different factors and social media preferences. Some of the key questions we seek to answer include:\n",
    "\n",
    "How do demographic variables such as age, gender, and educaiton level influence social media platform preferences?\n",
    "Do social-econonomic levels change social media usage? \n",
    "Are there behavioral patterns such as frequency of usage, content consumption habits, or interaction styles that correlate with specific social media platform choices?\n",
    "\n",
    "By investigating these questions, we aim to provide a comprehensive understanding of the diverse factors that impact social media preferences. \n",
    "\n",
    "### Changes:\n",
    "\n",
    "Our project has evolved to explore how factors like age, gender, and education level influence individuals' preferences for specific social media platforms, shifting from our initial focus on the impact of increased social media use on mental health. The shift in our focus was also made by the challenge of sourcing sufficient data on the relationship between social media usage and mental health markers. This change allows us to understand the demographic determinants of social media behaviors, providing a detailed view of the digital landscape's role in our lives. Our scope will be focused on examining social media's impact in recent years and the different factors that impact social media prefernces. We will be focusing on whether these factors have changed with the increase in social media usage or if the effect (or lack thereof) has been negligible. In general, the scope of our project will be more narrow than we originally described because we have found that there is better data in the recent to short term and a lack of data examining long-term perspectives in relation to our topic.\n",
    "\n",
    "### EDA Analysis:\n",
    "\n",
    "[NPORS EDA](#Step-1-EDA-Anaysis)\n",
    "\n",
    "### Data Cleaning: \n",
    "\n",
    "[NPORS Data Cleaning](#Step-2-Data-Cleaning)\n",
    "\n",
    "\n",
    "### Visualization:\n",
    "\n",
    "[NPORS Data Visialization](#Step-3-Visualization)\n",
    "\n",
    "\n",
    "### ML-Learning Analysis:\n",
    "\n",
    "We aim to explore a range of machine learning models to predict individuals' social media preferences:\n",
    "\n",
    "Logistic Regression: As a starting point, we will use logistic regression to understand the relationship between demographic/behavioral factors and the likelihood of preferring certain social media platforms.\n",
    "\n",
    "Decision Trees and Random Forests: These models will help us capture non-linear relationships and interactions between variables. They are particularly useful for classification tasks and can provide insights into the importance of different predictors.\n",
    "\n",
    "Clustering: Unsupervised learning techniques like k-means clustering will be used to segment users into distinct groups based on their social media usage patterns. This can uncover hidden patterns in the data without predefined labels.\n",
    "\n",
    "Neural Networks: If computational resources permit, we may explore more complex models like neural networks to capture deep patterns in the data. These models are particularly powerful for handling large datasets and complex relationships.\n",
    "\n",
    "### Reflection:\n",
    "\n",
    "Hardest Part Encountered: The most challenging aspect of the project thus far has been the initial difficulty in finding comprehensive and relevant long-term data to support our original research hypothesis. The of studies tracking the impact of social media on mental health presented a significant obstacle in formulating a robust research design.\n",
    "\n",
    "Initial Insights: Despite the initial setback, our preliminary exploration into the available data yielded valuable insights into the dynamic nature of social media preferences and usage patterns. We observed complex demographic and behavioral factors influencing individuals' choices of social media platforms.\n",
    "\n",
    "Concrete Results: At this point, we do not have concrete results to showcase due to the early stage of data analysis and the need for further exploration. The lack of finalized results is primarily attributed to the ongoing process of data collection and analysis.\n",
    "\n",
    "Current Biggest Problems: Moving forward, our current biggest challenge revolves around refining our research to effectively capture the nuances of social media preferences and their impact.\n",
    "\n",
    "On Track with the Project: While the initial hurdles necessitated a pivot in our research focus, we believe that the revised project direction aligns more closely with available data and research opportunities. However, there is a need to dedicate more time to data analysis and interpretation to ensure the robustness of our findings.\n",
    "\n",
    "Worth Proceeding with the Project: Despite the initial setbacks, we believe it is worthwhile to proceed with the project. The exploration of factors influencing social media preferences offers valuable insights into the evolving landscape of digital communication and consumer behavior. The revised project direction allows for a more targeted examination of relevant trends and phenomena, ultimately contributing to a deeper understanding of social media's impact on individuals and society.\n",
    "\n",
    "### Next Steps:\n",
    "\n",
    "In the next month, we aim to complete our data analysis, synthesize key insights, validate our findings, and document our research. We'll evaluate our project's success by comparing our outcomes with initial objectives, seeking feedback from peers, ensuring consistency, and assessing relevance and impact."
   ]
  },
  {
   "cell_type": "markdown",
   "metadata": {},
   "source": [
    "## _Step 1 EDA Anaysis:_\n",
    "\n",
    "    _NPORS (National Public Opinon Reference Survey):_ \n",
    "        Having relavant data on the usage of soical media in recent years (2020-2023) to see potential trends of social Media's presence.  \n",
    "        We will discover potentials points of data exploratory Analysis by using 'pyreadstat' python module seeing all mutatable variables. "
   ]
  },
  {
   "cell_type": "markdown",
   "metadata": {},
   "source": [
    "## _Step 2 Data Cleaning:_\n",
    "\n",
    "_NPORS (National Public Opinon Reference Survey):_ \n",
    "    Primary focusing on the potential references of social media's impact over a 4 year peroid we are only interested in these columns:  \n",
    "     (Male or Female) - This column records a scalable number 0 - 3 about how often a users gender \n",
    "### 'SMUSE A - I' \n",
    "     (Social Media USE ) - This column records a binary number 0 - 1 about if user uses specific soicial media platform \n",
    "### 'EDUC_ACS'\n",
    "     (Education Acomplished) - This column records a scalable number 0 - 7 or 0 - 11 about highest level of education recived\n",
    "\n",
    "### Conclusion:  \n",
    "We can filter this data by age group using the 'EDUC_ACS' and 'EDUCATION' column throught the different years of NPORS data to see how age/gender groups may have changes in group behavior indicated by these columns 'SMUSE A - I'. \n"
   ]
  },
  {
   "cell_type": "markdown",
   "metadata": {},
   "source": [
    "## _Step 3 Visualization:_\n",
    "\n",
    "<img src=\"Images/2020_df.png\" width=\"640\">\n",
    "<br>\n",
    "<img src=\"Images/2021_df.png\" width=\"640\">\n",
    "<br>\n",
    "<img src=\"Images/2022_df.png\" width=\"640\">\n",
    "<br>\n",
    "<img src=\"Images/2023_df.png\" width=\"640\">\n",
    "\n",
    "## conclusion: \n",
    "\n",
    "There is relative change throught a 4 year process of social media's presence on eduction levels, however remarkably ages in higher education report using these apps most of which is tik tok then with a sudden drammmatic shift plumpiting after masters degree.\n"
   ]
  }
 ],
 "metadata": {
  "kernelspec": {
   "display_name": "Python 3 (ipykernel)",
   "language": "python",
   "name": "python3"
  },
  "language_info": {
   "codemirror_mode": {
    "name": "ipython",
    "version": 3
   },
   "file_extension": ".py",
   "mimetype": "text/x-python",
   "name": "python",
   "nbconvert_exporter": "python",
   "pygments_lexer": "ipython3",
   "version": "3.11.5"
  }
 },
 "nbformat": 4,
 "nbformat_minor": 2
}
