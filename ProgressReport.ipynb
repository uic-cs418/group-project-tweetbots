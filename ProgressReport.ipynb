{
 "cells": [
  {
   "cell_type": "markdown",
   "metadata": {},
   "source": [
    "# _Twitter Bots Progress Report:_\n",
    "### _UIC CS 418, Spring 2024_\n",
    "##### _Authors: Joel Lovely, ect_\n",
    "\n",
    "### Overview:\n",
    "\n",
    "Bacon ipsum dolor amet picanha burgdoggen short ribs jowl short loin swine spare ribs meatloaf. Kevin spare ribs t-bone chicken pastrami, doner ham hock cow pork loin short ribs turducken. Spare ribs short ribs ham hock landjaeger beef ribs, tenderloin ground round pork loin andouille burgdoggen. Jowl beef ribs t-bone tongue short loin corned beef kevin boudin cupim pork loin alcatra capicola kielbasa ham. Pork shankle andouille, pork loin burgdoggen ham hock ribeye chislic beef ribs turkey ground round meatloaf buffalo spare ribs fatback. Hamburger tongue drumstick, short ribs beef ribs kielbasa landjaeger jowl jerky salami alcatra shoulder chicken tenderloin. Picanha buffalo pancetta cupim salami brisket.\n",
    "\n",
    "### Changes:\n",
    "\n",
    "Bacon ipsum dolor amet picanha burgdoggen short ribs jowl short loin swine spare ribs meatloaf. Kevin spare ribs t-bone chicken pastrami, doner ham hock cow pork loin short ribs turducken. Spare ribs short ribs ham hock landjaeger beef ribs, tenderloin ground round pork loin andouille burgdoggen. Jowl beef ribs t-bone tongue short loin corned beef kevin boudin cupim pork loin alcatra capicola kielbasa ham. Pork shankle andouille, pork loin burgdoggen ham hock ribeye chislic beef ribs turkey ground round meatloaf buffalo spare ribs fatback. Hamburger tongue drumstick, short ribs beef ribs kielbasa landjaeger jowl jerky salami alcatra shoulder chicken tenderloin. Picanha buffalo pancetta cupim salami brisket.\n",
    "\n",
    "### Data Cleaning:\n",
    "\n",
    "Bacon ipsum dolor amet picanha burgdoggen short ribs jowl short loin swine spare ribs meatloaf. Kevin spare ribs t-bone chicken pastrami, doner ham hock cow pork loin short ribs turducken. Spare ribs short ribs ham hock landjaeger beef ribs, tenderloin ground round pork loin andouille burgdoggen. Jowl beef ribs t-bone tongue short loin corned beef kevin boudin cupim pork loin alcatra capicola kielbasa ham. Pork shankle andouille, pork loin burgdoggen ham hock ribeye chislic beef ribs turkey ground round meatloaf buffalo spare ribs fatback. Hamburger tongue drumstick, short ribs beef ribs kielbasa landjaeger jowl jerky salami alcatra shoulder chicken tenderloin. Picanha buffalo pancetta cupim salami brisket.\n",
    "\n",
    "### EDA Analysis:\n",
    "\n",
    "Bacon ipsum dolor amet picanha burgdoggen short ribs jowl short loin swine spare ribs meatloaf. Kevin spare ribs t-bone chicken pastrami, doner ham hock cow pork loin short ribs turducken. Spare ribs short ribs ham hock landjaeger beef ribs, tenderloin ground round pork loin andouille burgdoggen. Jowl beef ribs t-bone tongue short loin corned beef kevin boudin cupim pork loin alcatra capicola kielbasa ham. Pork shankle andouille, pork loin burgdoggen ham hock ribeye chislic beef ribs turkey ground round meatloaf buffalo spare ribs fatback. Hamburger tongue drumstick, short ribs beef ribs kielbasa landjaeger jowl jerky salami alcatra shoulder chicken tenderloin. Picanha buffalo pancetta cupim salami brisket.\n",
    "\n",
    "### Visualization:\n",
    "\n",
    "Bacon ipsum dolor amet picanha burgdoggen short ribs jowl short loin swine spare ribs meatloaf. Kevin spare ribs t-bone chicken pastrami, doner ham hock cow pork loin short ribs turducken. Spare ribs short ribs ham hock landjaeger beef ribs, tenderloin ground round pork loin andouille burgdoggen. Jowl beef ribs t-bone tongue short loin corned beef kevin boudin cupim pork loin alcatra capicola kielbasa ham. Pork shankle andouille, pork loin burgdoggen ham hock ribeye chislic beef ribs turkey ground round meatloaf buffalo spare ribs fatback. Hamburger tongue drumstick, short ribs beef ribs kielbasa landjaeger jowl jerky salami alcatra shoulder chicken tenderloin. Picanha buffalo pancetta cupim salami brisket.\n",
    "\n",
    "\n",
    "### ML-Learning Analysis:\n",
    "\n",
    "Bacon ipsum dolor amet picanha burgdoggen short ribs jowl short loin swine spare ribs meatloaf. Kevin spare ribs t-bone chicken pastrami, doner ham hock cow pork loin short ribs turducken. Spare ribs short ribs ham hock landjaeger beef ribs, tenderloin ground round pork loin andouille burgdoggen. Jowl beef ribs t-bone tongue short loin corned beef kevin boudin cupim pork loin alcatra capicola kielbasa ham. Pork shankle andouille, pork loin burgdoggen ham hock ribeye chislic beef ribs turkey ground round meatloaf buffalo spare ribs fatback. Hamburger tongue drumstick, short ribs beef ribs kielbasa landjaeger jowl jerky salami alcatra shoulder chicken tenderloin. Picanha buffalo pancetta cupim salami brisket.\n",
    "\n",
    "### Reflection:\n",
    "\n",
    "Bacon ipsum dolor amet picanha burgdoggen short ribs jowl short loin swine spare ribs meatloaf. Kevin spare ribs t-bone chicken pastrami, doner ham hock cow pork loin short ribs turducken. Spare ribs short ribs ham hock landjaeger beef ribs, tenderloin ground round pork loin andouille burgdoggen. Jowl beef ribs t-bone tongue short loin corned beef kevin boudin cupim pork loin alcatra capicola kielbasa ham. Pork shankle andouille, pork loin burgdoggen ham hock ribeye chislic beef ribs turkey ground round meatloaf buffalo spare ribs fatback. Hamburger tongue drumstick, short ribs beef ribs kielbasa landjaeger jowl jerky salami alcatra shoulder chicken tenderloin. Picanha buffalo pancetta cupim salami brisket.\n",
    "\n",
    "### Next Steps:\n",
    "\n",
    "Bacon ipsum dolor amet picanha burgdoggen short ribs jowl short loin swine spare ribs meatloaf. Kevin spare ribs t-bone chicken pastrami, doner ham hock cow pork loin short ribs turducken. Spare ribs short ribs ham hock landjaeger beef ribs, tenderloin ground round pork loin andouille burgdoggen. Jowl beef ribs t-bone tongue short loin corned beef kevin boudin cupim pork loin alcatra capicola kielbasa ham. Pork shankle andouille, pork loin burgdoggen ham hock ribeye chislic beef ribs turkey ground round meatloaf buffalo spare ribs fatback. Hamburger tongue drumstick, short ribs beef ribs kielbasa landjaeger jowl jerky salami alcatra shoulder chicken tenderloin. Picanha buffalo pancetta cupim salami brisket."
   ]
  }
 ],
 "metadata": {
  "language_info": {
   "name": "python"
  }
 },
 "nbformat": 4,
 "nbformat_minor": 2
}
